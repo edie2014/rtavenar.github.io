{
 "cells": [
  {
   "cell_type": "markdown",
   "metadata": {
    "collapsed": true
   },
   "source": [
    "# Model selection\n",
    "\n",
    "Up to now, we have seen many ways to use models from the `sklearn` library to help solve your machine learning problems. Once you know how to use these models, an important question is that of model selection.\n",
    "\n",
    "In this section of the tutorial, we will deal with two important questions related to model selection:\n",
    "1. How to select a model that achieves a reasonable trade-off between underfitting (aka bias) and overfitting (aka variance);\n",
    "2. How to perform parameter tuning with `sklearn`.\n",
    "\n",
    "## Underfitting _vs_ overfitting\n",
    "\n",
    "Let us consider the problem of explaining variable `y` using covariate `X` in the following case:"
   ]
  },
  {
   "cell_type": "code",
   "execution_count": 1,
   "metadata": {
    "collapsed": false
   },
   "outputs": [
    {
     "data": {
      "text/plain": [
       "<matplotlib.collections.PathCollection at 0x110b41588>"
      ]
     },
     "execution_count": 1,
     "metadata": {},
     "output_type": "execute_result"
    },
    {
     "data": {
      "image/png": "[encoded data removed]",
      "text/plain": [
       "<matplotlib.figure.Figure at 0x10d0c5eb8>"
      ]
     },
     "metadata": {},
     "output_type": "display_data"
    }
   ],
   "source": [
    "%matplotlib inline\n",
    "\n",
    "from sklearn.linear_model import LinearRegression, Lasso\n",
    "import matplotlib.pyplot as plt\n",
    "import numpy as np\n",
    "\n",
    "X = np.random.randn(100, 1)\n",
    "y = 2 * X ** 2 - X + .1 * np.random.randn(100, 1)\n",
    "plt.scatter(X, y, s=40, edgecolors=\"none\")"
   ]
  },
  {
   "cell_type": "markdown",
   "metadata": {},
   "source": [
    "Of course, if we want to fit a linear regression model to this data, we do not get great results:"
   ]
  },
  {
   "cell_type": "code",
   "execution_count": 2,
   "metadata": {
    "collapsed": false
   },
   "outputs": [
    {
     "data": {
      "image/png": "[encoded data removed]",
      "text/plain": [
       "<matplotlib.figure.Figure at 0x110af51d0>"
      ]
     },
     "metadata": {},
     "output_type": "display_data"
    }
   ],
   "source": [
    "def plot_regression(regressor, data, y):\n",
    "    plt.scatter(data[:, 0], y, s=40, edgecolors=\"none\")\n",
    "    x_left, x_right = data[:,0].min() - .5, data[:,0].max() + .5\n",
    "    y_left, y_right = regressor.predict([[x_left], [x_right]])\n",
    "    plt.plot([x_left, x_right], [y_left, y_right], color=\"r\")\n",
    "    plt.xlim(data[:,0].min() - .5, data[:,0].max() + .5)\n",
    "    plt.ylim(y.min() - .5, y.max() + .5)\n",
    "\n",
    "regressor = LinearRegression()\n",
    "regressor.fit(X, y)\n",
    "plot_regression(regressor, X, y)"
   ]
  },
  {
   "cell_type": "markdown",
   "metadata": {},
   "source": [
    "We are in a case of underfitting: our model is not complex enough to explain our data."
   ]
  },
  {
   "cell_type": "code",
   "execution_count": null,
   "metadata": {
    "collapsed": true
   },
   "outputs": [],
   "source": []
  }
 ],
 "metadata": {
  "kernelspec": {
   "display_name": "Python 3",
   "language": "python",
   "name": "python3"
  },
  "language_info": {
   "codemirror_mode": {
    "name": "ipython",
    "version": 3
   },
   "file_extension": ".py",
   "mimetype": "text/x-python",
   "name": "python",
   "nbconvert_exporter": "python",
   "pygments_lexer": "ipython3",
   "version": "3.4.3"
  }
 },
 "nbformat": 4,
 "nbformat_minor": 0
}
