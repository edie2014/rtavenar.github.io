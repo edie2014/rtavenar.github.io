{
 "cells": [
  {
   "cell_type": "markdown",
   "metadata": {
    "collapsed": true
   },
   "source": [
    "# Regression\n",
    "\n",
    "In this section of the tutorial, we will investigate the use of linear regression in `sklearn`. As for all models in the `sklearn` framework, linear regression models mainly rely on `fit(X, y)` and `predict(X)` methods. Once fitted, linear coefficients of the model can be accessed _via_ the `coef_` property and the sum of residuals is stored in `residues_`.\n",
    "\n",
    "More information about the use of linear regression in `sklearn` can be found at: <http://scikit-learn.org/stable/modules/linear_model.html>.\n",
    "\n",
    "To begin with, let us import libraries we need and define a function to plot a linear regression in 1D."
   ]
  },
  {
   "cell_type": "code",
   "execution_count": 1,
   "metadata": {
    "collapsed": true
   },
   "outputs": [],
   "source": [
    "%matplotlib inline\n",
    "\n",
    "from sklearn.linear_model import LinearRegression, Lasso\n",
    "import matplotlib.pyplot as plt\n",
    "import numpy as np\n",
    "\n",
    "def plot_regression(regressor, data, y):\n",
    "    plt.scatter(data[:, 0], y, s=40, edgecolors=\"none\")\n",
    "    x_left, x_right = data[:,0].min() - .5, data[:,0].max() + .5\n",
    "    y_left, y_right = regressor.predict([[x_left], [x_right]])\n",
    "    plt.plot([x_left, x_right], [y_left, y_right], color=\"r\")\n",
    "    plt.xlim(data[:,0].min() - .5, data[:,0].max() + .5)\n",
    "    plt.ylim(y.min() - .5, y.max() + .5)"
   ]
  },
  {
   "cell_type": "markdown",
   "metadata": {},
   "source": [
    "Let us generate some data for which `y` is the sum of a component that is linear in `X` and some Gaussian noise:"
   ]
  },
  {
   "cell_type": "code",
   "execution_count": 2,
   "metadata": {
    "collapsed": false
   },
   "outputs": [
    {
     "data": {
      "image/png": "[encoded data removed]",
      "text/plain": [
       "<matplotlib.figure.Figure at 0x103f15c50>"
      ]
     },
     "metadata": {},
     "output_type": "display_data"
    }
   ],
   "source": [
    "X = np.random.randn(100, 1)\n",
    "y = 1.3 * X + .1 * np.random.randn(100, 1)\n",
    "regressor = LinearRegression()\n",
    "regressor.fit(X, y)\n",
    "plot_regression(regressor, X, y)"
   ]
  },
  {
   "cell_type": "markdown",
   "metadata": {},
   "source": [
    "As the noise is of limited magnitude, the model fits the data pretty well:"
   ]
  },
  {
   "cell_type": "code",
   "execution_count": 3,
   "metadata": {
    "collapsed": false
   },
   "outputs": [
    {
     "name": "stdout",
     "output_type": "stream",
     "text": [
      "R^2 coefficient of determination: 0.9939\n"
     ]
    }
   ],
   "source": [
    "print(\"R^2 coefficient of determination: %.4f\" % regressor.score(X, y))"
   ]
  },
  {
   "cell_type": "markdown",
   "metadata": {},
   "source": [
    "# Sparse Linear Regression, Variable Selection\n",
    "\n",
    "It so happens that one would like to perform variable selection while fitting a linear model. This can be done using the Lasso (see class `Lasso` in `sklearn` <http://scikit-learn.org/stable/modules/generated/sklearn.linear_model.Lasso.html#sklearn.linear_model.Lasso>).\n",
    "Compared to standard linear models, Lasso ones have an additional property `sparse_coef_` that is a sparse representation of non-zero entries in the vector of regression coefficients.\n",
    "\n",
    "We now generate data in dimension 30 such that coefficients that linearly link `X` to `y` are greater for even dimensions (and close to 0 for uneven ones)."
   ]
  },
  {
   "cell_type": "code",
   "execution_count": 4,
   "metadata": {
    "collapsed": false
   },
   "outputs": [
    {
     "name": "stdout",
     "output_type": "stream",
     "text": [
      "[1.3, 0.05, 1.3, 0.05, 1.3, 0.05, 1.3, 0.05, 1.3, 0.05, 1.3, 0.05, 1.3, 0.05, 1.3, 0.05, 1.3, 0.05, 1.3, 0.05, 1.3, 0.05, 1.3, 0.05, 1.3, 0.05, 1.3, 0.05, 1.3, 0.05]\n"
     ]
    }
   ],
   "source": [
    "d = 30\n",
    "X = np.random.randn(100, d)\n",
    "beta = [1.3, 0.05] * (d // 2)\n",
    "y = np.dot(X, beta) + .1 * np.random.randn(100, )\n",
    "print(beta)"
   ]
  },
  {
   "cell_type": "markdown",
   "metadata": {},
   "source": [
    "Now, if we fit a Lasso on this dataset, we get non-zero entries only for even dimensions."
   ]
  },
  {
   "cell_type": "code",
   "execution_count": 5,
   "metadata": {
    "collapsed": false
   },
   "outputs": [
    {
     "name": "stdout",
     "output_type": "stream",
     "text": [
      "  (0, 0)\t0.978557481852\n",
      "  (0, 2)\t1.10065696973\n",
      "  (0, 4)\t1.06014565724\n",
      "  (0, 6)\t0.833423061334\n",
      "  (0, 8)\t0.888152286864\n",
      "  (0, 10)\t1.0033347891\n",
      "  (0, 12)\t1.11365547553\n",
      "  (0, 14)\t1.08478108464\n",
      "  (0, 16)\t0.998637788606\n",
      "  (0, 18)\t1.03376746933\n",
      "  (0, 20)\t0.900585528672\n",
      "  (0, 22)\t1.14844093239\n",
      "  (0, 24)\t1.06509948342\n",
      "  (0, 26)\t1.08909732418\n",
      "  (0, 28)\t1.0530533758\n"
     ]
    },
    {
     "data": {
      "text/plain": [
       "0.95862148836364502"
      ]
     },
     "execution_count": 5,
     "metadata": {},
     "output_type": "execute_result"
    }
   ],
   "source": [
    "regressor = Lasso(alpha=.2)\n",
    "regressor.fit(X, y)\n",
    "print(regressor.sparse_coef_)\n",
    "regressor.score(X, y)"
   ]
  },
  {
   "cell_type": "markdown",
   "metadata": {},
   "source": [
    "Finally, using only selected covariates, we are able to fit a standard linear model using only those covariates and get a better $R^2$:"
   ]
  },
  {
   "cell_type": "code",
   "execution_count": 6,
   "metadata": {
    "collapsed": false
   },
   "outputs": [
    {
     "data": {
      "text/plain": [
       "0.99969738813706721"
      ]
     },
     "execution_count": 6,
     "metadata": {},
     "output_type": "execute_result"
    }
   ],
   "source": [
    "reduced_X = X[:, regressor.sparse_coef_.nonzero()[1]]\n",
    "regressor = LinearRegression()\n",
    "regressor.fit(X, y)\n",
    "regressor.score(X, y)"
   ]
  }
 ],
 "metadata": {
  "kernelspec": {
   "display_name": "Python 3",
   "language": "python",
   "name": "python3"
  },
  "language_info": {
   "codemirror_mode": {
    "name": "ipython",
    "version": 3.0
   },
   "file_extension": ".py",
   "mimetype": "text/x-python",
   "name": "python",
   "nbconvert_exporter": "python",
   "pygments_lexer": "ipython3",
   "version": "3.4.3"
  }
 },
 "nbformat": 4,
 "nbformat_minor": 0
}