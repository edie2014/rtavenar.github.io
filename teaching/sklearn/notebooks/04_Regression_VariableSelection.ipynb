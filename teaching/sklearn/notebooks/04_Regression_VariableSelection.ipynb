{
 "cells": [
  {
   "cell_type": "markdown",
   "metadata": {
    "collapsed": true
   },
   "source": [
    "# Regression\n",
    "\n",
    "In this section of the tutorial, we will investigate the use of linear regression in `sklearn`. As for all models in the `sklearn` framework, linear regression models mainly rely on `fit(X, y)` and `predict(X)` methods. Once fitted, linear coefficients of the model can be accessed _via_ the `coef_` property and the sum of residuals is stored in `residues_`.\n",
    "\n",
    "More information about the use of linear regression in `sklearn` can be found at: <http://scikit-learn.org/stable/modules/linear_model.html>.\n",
    "\n",
    "To begin with, let us import libraries we need and define a function to plot a linear regression in 1D."
   ]
  },
  {
   "cell_type": "code",
   "execution_count": 1,
   "metadata": {
    "collapsed": true
   },
   "outputs": [],
   "source": [
    "%matplotlib inline\n",
    "\n",
    "from sklearn.linear_model import LinearRegression, Lasso\n",
    "import matplotlib.pyplot as plt\n",
    "import numpy as np\n",
    "\n",
    "def plot_regression(regressor, data, y):\n",
    "    plt.scatter(data[:, 0], y, s=40, edgecolors=\"none\")\n",
    "    x_left, x_right = data[:,0].min() - .5, data[:,0].max() + .5\n",
    "    y_left, y_right = regressor.predict([[x_left], [x_right]])\n",
    "    plt.plot([x_left, x_right], [y_left, y_right], color=\"r\")\n",
    "    plt.xlim(data[:,0].min() - .5, data[:,0].max() + .5)\n",
    "    plt.ylim(y.min() - .5, y.max() + .5)"
   ]
  },
  {
   "cell_type": "markdown",
   "metadata": {},
   "source": [
    "Let us generate some data for which `y` is the sum of a component that is linear in `X` and some Gaussian noise:"
   ]
  },
  {
   "cell_type": "code",
   "execution_count": 2,
   "metadata": {
    "collapsed": false
   },
   "outputs": [
    {
     "data": {
      "image/png": "[encoded data removed]",
      "text/plain": [
       "<matplotlib.figure.Figure at 0x104327860>"
      ]
     },
     "metadata": {},
     "output_type": "display_data"
    }
   ],
   "source": [
    "X = np.random.randn(100, 1)\n",
    "y = 1.3 * X + .1 * np.random.randn(100, 1)\n",
    "regressor = LinearRegression()\n",
    "regressor.fit(X, y)\n",
    "plot_regression(regressor, X, y)"
   ]
  },
  {
   "cell_type": "markdown",
   "metadata": {},
   "source": [
    "As the noise is of limited magnitude, the model fits the data pretty well:"
   ]
  },
  {
   "cell_type": "code",
   "execution_count": 3,
   "metadata": {
    "collapsed": false
   },
   "outputs": [
    {
     "name": "stdout",
     "output_type": "stream",
     "text": [
      "R^2 coefficient of determination: 0.9942\n"
     ]
    }
   ],
   "source": [
    "print(\"R^2 coefficient of determination: %.4f\" % regressor.score(X, y))"
   ]
  },
  {
   "cell_type": "markdown",
   "metadata": {},
   "source": [
    "# Sparse Linear Regression, Variable Selection\n",
    "\n",
    "It so happens that one would like to perform variable selection while fitting a linear model. This can be done using the Lasso (see class `Lasso` in `sklearn` <http://scikit-learn.org/stable/modules/generated/sklearn.linear_model.Lasso.html#sklearn.linear_model.Lasso>).\n",
    "Compared to standard linear models, Lasso ones have an additional property `sparse_coef_` that is a sparse representation of non-zero entries in the vector of regression coefficients.\n",
    "\n",
    "We now generate data in dimension 30 such that coefficients that linearly link `X` to `y` are greater for even dimensions (and close to 0 for uneven ones)."
   ]
  },
  {
   "cell_type": "code",
   "execution_count": 4,
   "metadata": {
    "collapsed": false
   },
   "outputs": [
    {
     "name": "stdout",
     "output_type": "stream",
     "text": [
      "[1.3, 0.05, 1.3, 0.05, 1.3, 0.05, 1.3, 0.05, 1.3, 0.05, 1.3, 0.05, 1.3, 0.05, 1.3, 0.05, 1.3, 0.05, 1.3, 0.05, 1.3, 0.05, 1.3, 0.05, 1.3, 0.05, 1.3, 0.05, 1.3, 0.05]\n"
     ]
    }
   ],
   "source": [
    "d = 30\n",
    "X = np.random.randn(100, d)\n",
    "beta = [1.3, 0.05] * (d // 2)\n",
    "y = np.dot(X, beta) + .1 * np.random.randn(100, )\n",
    "print(beta)"
   ]
  },
  {
   "cell_type": "markdown",
   "metadata": {},
   "source": [
    "Now, if we fit a Lasso on this dataset, we get non-zero entries only for even dimensions."
   ]
  },
  {
   "cell_type": "code",
   "execution_count": 5,
   "metadata": {
    "collapsed": false
   },
   "outputs": [
    {
     "name": "stdout",
     "output_type": "stream",
     "text": [
      "  (0, 0)\t1.1003897882\n",
      "  (0, 2)\t0.974294041999\n",
      "  (0, 4)\t1.03729603824\n",
      "  (0, 6)\t1.14818189103\n",
      "  (0, 8)\t1.04463304064\n",
      "  (0, 10)\t1.01792088068\n",
      "  (0, 12)\t1.10459797257\n",
      "  (0, 14)\t0.995270107954\n",
      "  (0, 16)\t0.867328837527\n",
      "  (0, 18)\t1.26069609515\n",
      "  (0, 20)\t1.04305519652\n",
      "  (0, 22)\t0.890402751872\n",
      "  (0, 24)\t0.898735288444\n",
      "  (0, 26)\t1.07515201292\n",
      "  (0, 28)\t1.0901692749\n"
     ]
    }
   ],
   "source": [
    "regressor = Lasso(alpha=.2)\n",
    "regressor.fit(X, y)\n",
    "print(regressor.sparse_coef_)"
   ]
  },
  {
   "cell_type": "code",
   "execution_count": 6,
   "metadata": {
    "collapsed": false
   },
   "outputs": [
    {
     "data": {
      "text/plain": [
       "0.96481724512832312"
      ]
     },
     "execution_count": 6,
     "metadata": {},
     "output_type": "execute_result"
    }
   ],
   "source": [
    "regressor.score(X, y)"
   ]
  },
  {
   "cell_type": "markdown",
   "metadata": {},
   "source": [
    "Finally, using only selected covariates, we are able to fit a standard linear model using only those covariates and get a better $R^2$:"
   ]
  },
  {
   "cell_type": "code",
   "execution_count": 7,
   "metadata": {
    "collapsed": false
   },
   "outputs": [
    {
     "data": {
      "text/plain": [
       "LinearRegression(copy_X=True, fit_intercept=True, n_jobs=1, normalize=False)"
      ]
     },
     "execution_count": 7,
     "metadata": {},
     "output_type": "execute_result"
    }
   ],
   "source": [
    "reduced_X = X[:, regressor.sparse_coef_.nonzero()[1]]\n",
    "regressor = LinearRegression()\n",
    "regressor.fit(X, y)"
   ]
  },
  {
   "cell_type": "code",
   "execution_count": 8,
   "metadata": {
    "collapsed": false
   },
   "outputs": [
    {
     "data": {
      "text/plain": [
       "0.99970360608088882"
      ]
     },
     "execution_count": 8,
     "metadata": {},
     "output_type": "execute_result"
    }
   ],
   "source": [
    "regressor.score(X, y)"
   ]
  }
 ],
 "metadata": {
  "kernelspec": {
   "display_name": "Python 3",
   "language": "python",
   "name": "python3"
  },
  "language_info": {
   "codemirror_mode": {
    "name": "ipython",
    "version": 3.0
   },
   "file_extension": ".py",
   "mimetype": "text/x-python",
   "name": "python",
   "nbconvert_exporter": "python",
   "pygments_lexer": "ipython3",
   "version": "3.4.3"
  }
 },
 "nbformat": 4,
 "nbformat_minor": 0
}